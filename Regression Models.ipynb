{
 "cells": [
  {
   "cell_type": "code",
   "execution_count": 71,
   "metadata": {},
   "outputs": [],
   "source": [
    "import numpy as np\n",
    "import matplotlib.pyplot as plt\n",
    "import pandas as pd"
   ]
  },
  {
   "cell_type": "code",
   "execution_count": 72,
   "metadata": {},
   "outputs": [],
   "source": [
    "dataset = pd.read_csv(\"SwedishMotorInsurance.csv\")\n",
    "x = dataset.iloc[:, :-1].values\n",
    "y = dataset.iloc[:, -1].values"
   ]
  },
  {
   "cell_type": "code",
   "execution_count": 73,
   "metadata": {},
   "outputs": [
    {
     "data": {
      "text/html": [
       "<div>\n",
       "<style scoped>\n",
       "    .dataframe tbody tr th:only-of-type {\n",
       "        vertical-align: middle;\n",
       "    }\n",
       "\n",
       "    .dataframe tbody tr th {\n",
       "        vertical-align: top;\n",
       "    }\n",
       "\n",
       "    .dataframe thead th {\n",
       "        text-align: right;\n",
       "    }\n",
       "</style>\n",
       "<table border=\"1\" class=\"dataframe\">\n",
       "  <thead>\n",
       "    <tr style=\"text-align: right;\">\n",
       "      <th></th>\n",
       "      <th>Kilometres</th>\n",
       "      <th>Zone</th>\n",
       "      <th>Bonus</th>\n",
       "      <th>Make</th>\n",
       "      <th>Insured</th>\n",
       "      <th>Claims</th>\n",
       "      <th>Payment</th>\n",
       "    </tr>\n",
       "  </thead>\n",
       "  <tbody>\n",
       "    <tr>\n",
       "      <th>0</th>\n",
       "      <td>1</td>\n",
       "      <td>1</td>\n",
       "      <td>1</td>\n",
       "      <td>1</td>\n",
       "      <td>455.13</td>\n",
       "      <td>108</td>\n",
       "      <td>392491</td>\n",
       "    </tr>\n",
       "    <tr>\n",
       "      <th>1</th>\n",
       "      <td>1</td>\n",
       "      <td>1</td>\n",
       "      <td>1</td>\n",
       "      <td>2</td>\n",
       "      <td>69.17</td>\n",
       "      <td>19</td>\n",
       "      <td>46221</td>\n",
       "    </tr>\n",
       "    <tr>\n",
       "      <th>2</th>\n",
       "      <td>1</td>\n",
       "      <td>1</td>\n",
       "      <td>1</td>\n",
       "      <td>3</td>\n",
       "      <td>72.88</td>\n",
       "      <td>13</td>\n",
       "      <td>15694</td>\n",
       "    </tr>\n",
       "    <tr>\n",
       "      <th>3</th>\n",
       "      <td>1</td>\n",
       "      <td>1</td>\n",
       "      <td>1</td>\n",
       "      <td>4</td>\n",
       "      <td>1292.39</td>\n",
       "      <td>124</td>\n",
       "      <td>422201</td>\n",
       "    </tr>\n",
       "    <tr>\n",
       "      <th>4</th>\n",
       "      <td>1</td>\n",
       "      <td>1</td>\n",
       "      <td>1</td>\n",
       "      <td>5</td>\n",
       "      <td>191.01</td>\n",
       "      <td>40</td>\n",
       "      <td>119373</td>\n",
       "    </tr>\n",
       "    <tr>\n",
       "      <th>...</th>\n",
       "      <td>...</td>\n",
       "      <td>...</td>\n",
       "      <td>...</td>\n",
       "      <td>...</td>\n",
       "      <td>...</td>\n",
       "      <td>...</td>\n",
       "      <td>...</td>\n",
       "    </tr>\n",
       "    <tr>\n",
       "      <th>2177</th>\n",
       "      <td>5</td>\n",
       "      <td>7</td>\n",
       "      <td>7</td>\n",
       "      <td>5</td>\n",
       "      <td>8.74</td>\n",
       "      <td>0</td>\n",
       "      <td>0</td>\n",
       "    </tr>\n",
       "    <tr>\n",
       "      <th>2178</th>\n",
       "      <td>5</td>\n",
       "      <td>7</td>\n",
       "      <td>7</td>\n",
       "      <td>6</td>\n",
       "      <td>16.61</td>\n",
       "      <td>0</td>\n",
       "      <td>0</td>\n",
       "    </tr>\n",
       "    <tr>\n",
       "      <th>2179</th>\n",
       "      <td>5</td>\n",
       "      <td>7</td>\n",
       "      <td>7</td>\n",
       "      <td>7</td>\n",
       "      <td>2.83</td>\n",
       "      <td>1</td>\n",
       "      <td>966</td>\n",
       "    </tr>\n",
       "    <tr>\n",
       "      <th>2180</th>\n",
       "      <td>5</td>\n",
       "      <td>7</td>\n",
       "      <td>7</td>\n",
       "      <td>8</td>\n",
       "      <td>13.06</td>\n",
       "      <td>0</td>\n",
       "      <td>0</td>\n",
       "    </tr>\n",
       "    <tr>\n",
       "      <th>2181</th>\n",
       "      <td>5</td>\n",
       "      <td>7</td>\n",
       "      <td>7</td>\n",
       "      <td>9</td>\n",
       "      <td>384.87</td>\n",
       "      <td>16</td>\n",
       "      <td>112252</td>\n",
       "    </tr>\n",
       "  </tbody>\n",
       "</table>\n",
       "<p>2182 rows × 7 columns</p>\n",
       "</div>"
      ],
      "text/plain": [
       "      Kilometres  Zone  Bonus  Make  Insured  Claims  Payment\n",
       "0              1     1      1     1   455.13     108   392491\n",
       "1              1     1      1     2    69.17      19    46221\n",
       "2              1     1      1     3    72.88      13    15694\n",
       "3              1     1      1     4  1292.39     124   422201\n",
       "4              1     1      1     5   191.01      40   119373\n",
       "...          ...   ...    ...   ...      ...     ...      ...\n",
       "2177           5     7      7     5     8.74       0        0\n",
       "2178           5     7      7     6    16.61       0        0\n",
       "2179           5     7      7     7     2.83       1      966\n",
       "2180           5     7      7     8    13.06       0        0\n",
       "2181           5     7      7     9   384.87      16   112252\n",
       "\n",
       "[2182 rows x 7 columns]"
      ]
     },
     "execution_count": 97,
     "metadata": {},
     "output_type": "execute_result"
    }
   ],
   "source": [
    "dataset"
   ]
  },
  {
   "cell_type": "code",
   "execution_count": 74,
   "metadata": {},
   "outputs": [
    {
     "name": "stdout",
     "output_type": "stream",
     "text": [
      "[[  1.     1.     1.     1.   455.13 108.  ]\n",
      " [  1.     1.     1.     2.    69.17  19.  ]\n",
      " [  1.     1.     1.     3.    72.88  13.  ]\n",
      " ...\n",
      " [  5.     7.     7.     7.     2.83   1.  ]\n",
      " [  5.     7.     7.     8.    13.06   0.  ]\n",
      " [  5.     7.     7.     9.   384.87  16.  ]]\n"
     ]
    }
   ],
   "source": [
    "print(x)"
   ]
  },
  {
   "cell_type": "code",
   "execution_count": 75,
   "metadata": {
    "tags": [
     "For missing data"
    ]
   },
   "outputs": [],
   "source": [
    "from sklearn.impute import SimpleImputer                                                \n",
    "imputer = SimpleImputer(missing_values = np.nan, strategy = \"mean\")\n",
    "imputer.fit(x[:, 4:6])\n",
    "x[:, 4:6] = imputer.transform(x[:, 4:6])"
   ]
  },
  {
   "cell_type": "code",
   "execution_count": 76,
   "metadata": {},
   "outputs": [
    {
     "name": "stdout",
     "output_type": "stream",
     "text": [
      "[[  1.     1.     1.   455.13 108.  ]\n",
      " [  1.     1.     2.    69.17  19.  ]\n",
      " [  1.     1.     3.    72.88  13.  ]\n",
      " ...\n",
      " [  7.     7.     7.     2.83   1.  ]\n",
      " [  7.     7.     8.    13.06   0.  ]\n",
      " [  7.     7.     9.   384.87  16.  ]]\n"
     ]
    }
   ],
   "source": [
    "print(x)"
   ]
  },
  {
   "cell_type": "code",
   "execution_count": 95,
   "metadata": {
    "tags": [
     "For Encoding Independent Variable"
    ]
   },
   "outputs": [],
   "source": [
    "from sklearn.compose import ColumnTransformer\n",
    "from sklearn.preprocessing import OneHotEncoder\n",
    "ct = ColumnTransformer(transformers = [('encoder', OneHotEncoder(), [0])], remainder = 'passthrough')\n",
    "x = np.array(ct.fit_transform(x))\n"
   ]
  },
  {
   "cell_type": "code",
   "execution_count": 78,
   "metadata": {},
   "outputs": [
    {
     "name": "stdout",
     "output_type": "stream",
     "text": [
      "[[  1.     0.     0.   ...   1.   455.13 108.  ]\n",
      " [  1.     0.     0.   ...   2.    69.17  19.  ]\n",
      " [  1.     0.     0.   ...   3.    72.88  13.  ]\n",
      " ...\n",
      " [  0.     0.     0.   ...   7.     2.83   1.  ]\n",
      " [  0.     0.     0.   ...   8.    13.06   0.  ]\n",
      " [  0.     0.     0.   ...   9.   384.87  16.  ]]\n"
     ]
    }
   ],
   "source": [
    "print(x)"
   ]
  },
  {
   "cell_type": "code",
   "execution_count": 79,
   "metadata": {
    "tags": [
     "For Encoding Dependent Variable"
    ]
   },
   "outputs": [],
   "source": [
    "from sklearn.preprocessing import LabelEncoder\n",
    "le = LabelEncoder()\n",
    "y = le.fit_transform(y)"
   ]
  },
  {
   "cell_type": "code",
   "execution_count": 80,
   "metadata": {},
   "outputs": [
    {
     "name": "stdout",
     "output_type": "stream",
     "text": [
      "[1515  881  559 ...   32    0 1208]\n"
     ]
    }
   ],
   "source": [
    "print(y)"
   ]
  },
  {
   "cell_type": "code",
   "execution_count": 81,
   "metadata": {},
   "outputs": [
    {
     "data": {
      "image/png": "[encoded data removed]",
      "text/plain": [
       "<Figure size 432x288 with 1 Axes>"
      ]
     },
     "metadata": {
      "needs_background": "light"
     },
     "output_type": "display_data"
    }
   ],
   "source": [
    "plt.scatter(dataset['Kilometres'], dataset['Payment'], color = 'red')\n",
    "plt.title('Kilometers vs Payment')\n",
    "plt.xlabel('Kilometers')\n",
    "plt.ylabel('Payment')\n",
    "plt.show()"
   ]
  },
  {
   "cell_type": "code",
   "execution_count": 82,
   "metadata": {
    "tags": []
   },
   "outputs": [],
   "source": [
    "from sklearn.model_selection import train_test_split\n",
    "x_train, x_test, y_train, y_test = train_test_split(x, y, test_size = 0.2, random_state = 1)"
   ]
  },
  {
   "cell_type": "code",
   "execution_count": 83,
   "metadata": {},
   "outputs": [
    {
     "name": "stdout",
     "output_type": "stream",
     "text": [
      "[[7.00000e+00 4.00000e+00 3.00000e+00 9.60000e-01 0.00000e+00]\n",
      " [3.00000e+00 7.00000e+00 6.00000e+00 5.23390e+02 1.40000e+01]\n",
      " [7.00000e+00 3.00000e+00 4.00000e+00 4.61800e+01 1.00000e+00]\n",
      " ...\n",
      " [4.00000e+00 4.00000e+00 1.00000e+00 9.30380e+02 5.30000e+01]\n",
      " [4.00000e+00 6.00000e+00 2.00000e+00 2.98730e+02 5.00000e+00]\n",
      " [3.00000e+00 7.00000e+00 2.00000e+00 1.68152e+03 7.10000e+01]]\n"
     ]
    }
   ],
   "source": [
    "print(x_train)"
   ]
  },
  {
   "cell_type": "code",
   "execution_count": 84,
   "metadata": {},
   "outputs": [
    {
     "name": "stdout",
     "output_type": "stream",
     "text": [
      "[     0  62013    756 ... 294693  16182 377529]\n"
     ]
    }
   ],
   "source": [
    "print(y_train)"
   ]
  },
  {
   "cell_type": "code",
   "execution_count": 85,
   "metadata": {},
   "outputs": [
    {
     "name": "stdout",
     "output_type": "stream",
     "text": [
      "[[ 2.    5.    5.   25.1   1.  ]\n",
      " [ 7.    5.    5.    0.7   0.  ]\n",
      " [ 7.    3.    2.    1.61  0.  ]\n",
      " ...\n",
      " [ 7.    5.    3.    0.2   0.  ]\n",
      " [ 5.    6.    3.   40.03  1.  ]\n",
      " [ 3.    3.    2.   31.55  3.  ]]\n"
     ]
    }
   ],
   "source": [
    "print(x_test)"
   ]
  },
  {
   "cell_type": "code",
   "execution_count": 86,
   "metadata": {},
   "outputs": [
    {
     "name": "stdout",
     "output_type": "stream",
     "text": [
      "[  31442       0       0  152944  251193   79870   12608       0    4521\n",
      "   31442       0    1710       0    2288    9979   69277  168380  116227\n",
      "   38663  233769  912421       0   38560   55595   23091   15229   12288\n",
      "       0   88961       0   72563  731869    7647  447128   18455       0\n",
      " 1097124       0  201401  153830   23893   57899    1144 5173923    4249\n",
      "   45498   13026    7403 2133862   38542   42686       0  858717  329632\n",
      "   58588  120719  436313  121196  775364    1450   42369  142262   56739\n",
      "    6020    4855       0       0   13238       0    9525   23206   25329\n",
      "       0  578831   69025       0       0     435 2249007   80714 4387841\n",
      "  122651       0    4656 1044585  489424    2289    4868       0 7698320\n",
      "    2193 2833885  391512    3000   31442 2873487   95879    4422       0\n",
      " 1401833    6102    8064   31442   22495  623928    6387  234344       0\n",
      "  155704    4225  124101  403488       0 1031429  785697  230920  135172\n",
      "       0  364718   51380  604161    1684   86801    8435    8390   42430\n",
      "  206813   21706    6674   33909    2810   25061    4737 1079230       0\n",
      "  113934 1423093  135007 4847989  255116   45486 3223609   34524   23703\n",
      "    1231   10929       0   30337    6534  122551  103196   48691   49061\n",
      "   20011   67055 1517683   30510    6103       0   85892   19358  302181\n",
      "   18501    7056  204035  250211   51072    5061    5911    1029   77633\n",
      "  139195   12268 1088795  113635 2634269  222823    4884   56940  236220\n",
      "  201310    5307    5716  653118   51943  182641   39056  986926  452280\n",
      "   46010   49960       0   41928       0   51950       0   10597    4375\n",
      "   57665   41995   26797   12104  114290  228604    1522   51392   55231\n",
      "   36493   47551  116662    1073    3325  157981   31442    7874   49197\n",
      "  117401   38966   92572   14940       0   27088    8258   40273    9347\n",
      "       0   31442       0   55184       0  137828   35822   36323  168854\n",
      "   19055  994540 2121962 2172831   20281       0   80134  169303   24925\n",
      "  234736  197187   45923  130489  435444  397236    5646    9655   57514\n",
      "    9709  272422   90111   81848       0  101358       0     966   12950\n",
      "  557417   11364   72861   16730   51965       0 1304846  360223   20303\n",
      "  101091   13825  422201  112948    5871   13127    4383 6556534    8972\n",
      "  547051       0   17523   11865  165902  132964 6805992  209378       0\n",
      "   59634       0       0  105510  253660   15092  399470 1135808 2526990\n",
      "   18101   40454  100564   58500  502889       0    5473       0       0\n",
      "  150031       0   35412   21942     603    2572   15880   76834   11325\n",
      "   88706   39053   74790    1426       0     626       0   10115 3029300\n",
      "   10834   91535  146054   31519       0   32275  353788    2913    1980\n",
      "       0  304384    4836  121307  121008    4256 1066083   14982  333231\n",
      "   32158       0    7068   37643 7243260  438695  196119   25779 1148035\n",
      " 2296256    6085  249540    1209   11558    5403       0  105565  730785\n",
      "  291386    4512  323882    7993       0  578698  244561   59509   66584\n",
      "   14288       0   57304   47618       0     309       0     954   27401\n",
      "    1985    1410   40142  191982    5982   14731       0   43356       0\n",
      "       0  113492   68243    9151  114629       0   89166     400  357640\n",
      "       0       0       0     779 8500391    2199       0   83511    5216\n",
      "   16781    8237       0 5121951       0   19379   92809    2343    5673\n",
      "   70984  208821    4502   14620   22404   39806    8396       0   11444\n",
      "  137005  162678       0 5765190     901  191942   10580   61941   14822\n",
      "       0   22854       0    1373   34055]\n"
     ]
    }
   ],
   "source": [
    "print(y_test)"
   ]
  },
  {
   "cell_type": "code",
   "execution_count": 87,
   "metadata": {
    "tags": [
     "Normalisation"
    ]
   },
   "outputs": [],
   "source": [
    "from sklearn.preprocessing import StandardScaler\n",
    "sc = StandardScaler()\n",
    "x_train = sc.fit_transform(x_train)\n",
    "x_test = sc.transform(x_test)\n"
   ]
  },
  {
   "cell_type": "code",
   "execution_count": 88,
   "metadata": {},
   "outputs": [
    {
     "name": "stdout",
     "output_type": "stream",
     "text": [
      "[[ 1.52063989 -0.01383842 -0.7554002  -0.17949419 -0.24403239]\n",
      " [-0.48579989  1.49541415  0.40769393 -0.09200896 -0.17334324]\n",
      " [ 1.52063989 -0.51692261 -0.36770216 -0.17192173 -0.23898317]\n",
      " ...\n",
      " [ 0.01581006 -0.01383842 -1.53079629 -0.02385511  0.02357655]\n",
      " [ 0.01581006  0.99232996 -1.14309825 -0.12963014 -0.21878626]\n",
      " [-0.48579989  1.49541415 -1.14309825  0.1019295   0.11446261]]\n"
     ]
    }
   ],
   "source": [
    "print(x_train)"
   ]
  },
  {
   "cell_type": "code",
   "execution_count": 89,
   "metadata": {},
   "outputs": [
    {
     "name": "stdout",
     "output_type": "stream",
     "text": [
      "[[-0.98740984  0.48924577  0.01999589 -0.17545175 -0.23898317]\n",
      " [ 1.52063989  0.48924577  0.01999589 -0.17953773 -0.24403239]\n",
      " [ 1.52063989 -0.51692261 -1.14309825 -0.17938535 -0.24403239]\n",
      " ...\n",
      " [ 1.52063989  0.48924577 -0.7554002  -0.17962146 -0.24403239]\n",
      " [ 0.51742     0.99232996 -0.7554002  -0.1729516  -0.23898317]\n",
      " [-0.48579989 -0.51692261 -1.14309825 -0.17437165 -0.22888471]]\n"
     ]
    }
   ],
   "source": [
    "print(x_test)"
   ]
  },
  {
   "cell_type": "code",
   "execution_count": 90,
   "metadata": {
    "tags": [
     "Training Linear Regression Model on Training Set"
    ]
   },
   "outputs": [
    {
     "data": {
      "text/plain": [
       "LinearRegression()"
      ]
     },
     "execution_count": 170,
     "metadata": {},
     "output_type": "execute_result"
    }
   ],
   "source": [
    "from sklearn.linear_model import LinearRegression\n",
    "regressor = LinearRegression()\n",
    "regressor.fit(x_train, y_train)"
   ]
  },
  {
   "cell_type": "code",
   "execution_count": 91,
   "metadata": {},
   "outputs": [
    {
     "name": "stdout",
     "output_type": "stream",
     "text": [
      "[ 3.68872950e+03  8.23855708e+03  1.13606978e+04  2.65426922e+05\n",
      "  2.37735748e+05  7.87200195e+04  1.21104692e+04  4.20894007e+03\n",
      "  2.26925685e+03  1.77307257e+04  3.11511512e+03  5.20454408e+03\n",
      "  1.05358572e+04  7.19214582e+03  1.48891395e+04  1.95702194e+04\n",
      "  7.02898349e+04  1.16263092e+05  2.74914785e+04  2.69705577e+05\n",
      "  7.47049629e+05  3.20910095e+03  2.11969822e+04  5.76718383e+04\n",
      "  3.16783228e+04  3.89703313e+04  2.11169584e+04  1.51072893e+04\n",
      "  8.65687078e+04  1.76552943e+03  7.52926087e+04  5.57103263e+05\n",
      " -1.19900986e+02  3.89168185e+05  5.08424082e+04  1.53691958e+04\n",
      "  1.07085486e+06  7.91259939e+03  3.51320339e+05  1.14344116e+05\n",
      "  2.35822599e+04  6.94900644e+04  1.15006054e+03  5.52217687e+06\n",
      "  4.53405764e+03  3.01196570e+04  2.62054587e+04  1.72926265e+04\n",
      "  1.89834499e+06  7.06975006e+03  2.12778762e+04  5.48285323e+03\n",
      "  8.92078497e+05  3.27946974e+05  4.86613926e+04  1.72905812e+05\n",
      "  4.01952467e+05  1.05598059e+05  6.22277609e+05  7.91087114e+03\n",
      "  4.71975690e+04  1.51398386e+05  5.12108741e+04  2.18479219e+04\n",
      "  1.55399456e+04  6.05218757e+03 -5.84975433e+02  2.03880599e+04\n",
      "  8.35489928e+03  1.83938159e+04  4.90466740e+04  3.77841461e+04\n",
      "  9.23602200e+03  6.58294843e+05  6.54606897e+04  1.12331811e+04\n",
      " -8.08012825e+03 -9.92490249e+02  1.94484822e+06  1.24371702e+05\n",
      "  4.53463034e+06  1.57948140e+05  9.36940201e+03  1.11277283e+04\n",
      "  8.12466920e+05  4.85301303e+05  1.00858756e+04  8.30399113e+03\n",
      "  1.52611354e+03  7.43114056e+06  8.90850379e+03  2.78728441e+06\n",
      "  3.81225996e+05  1.68820855e+04  1.09555448e+04  2.92668004e+06\n",
      "  5.64886885e+04  8.02897440e+03  1.10709849e+02  1.70120838e+06\n",
      "  2.30107281e+04  7.11167954e+03  7.16905413e+03  2.31156138e+04\n",
      "  5.60869496e+05  1.30715377e+04  2.12159333e+05  8.30912323e+03\n",
      "  1.58094318e+05  6.83115150e+03  1.32285112e+05  4.41947564e+05\n",
      "  1.35998496e+04  8.18606234e+05  6.63415400e+05  1.62187629e+05\n",
      "  6.85599958e+04  7.63545397e+03  3.42672009e+05  1.02923427e+05\n",
      "  5.00184106e+05  1.12780482e+04  5.73721452e+04  1.91227030e+04\n",
      "  6.43480794e+02  2.72823416e+04  2.20426353e+05  3.79404788e+04\n",
      "  2.62972989e+04  7.72682610e+04  9.35649326e+03  2.86247981e+04\n",
      "  1.54380444e+04  1.36354290e+06 -3.30664065e+03  5.92032800e+04\n",
      "  1.33706688e+06  1.69754954e+05  4.57115750e+06  2.90033867e+05\n",
      "  3.87816264e+04  2.91595323e+06  6.05476600e+04  2.54544888e+04\n",
      "  1.03949633e+04  2.89691211e+04  1.13817268e+04  5.69022790e+04\n",
      "  1.27385969e+04  4.27572260e+04  8.05626462e+04  1.81691008e+04\n",
      "  6.88970125e+04  1.29746804e+04  1.67088209e+04  1.54900604e+06\n",
      "  4.30750221e+04  5.90683435e+03 -8.27163573e+02  4.89434841e+04\n",
      "  1.67481798e+04  3.35475060e+05  2.67181084e+04  9.87024700e+03\n",
      "  2.78499236e+05  1.37854236e+05  3.75935975e+04  1.52377207e+04\n",
      "  1.35058354e+04  2.52001012e+03  6.81778672e+04  9.40864709e+04\n",
      "  2.12175825e+04  1.26509290e+06  1.00673709e+05  2.59105608e+06\n",
      "  1.43884677e+05  5.84004564e+03  9.35034453e+04  2.96685451e+05\n",
      "  1.43534362e+05  6.25783991e+03 -3.22481449e+03  7.02680213e+05\n",
      "  4.69876258e+04  1.87114361e+05  1.29572757e+04  1.02386209e+06\n",
      "  4.19822303e+05  3.56481494e+04  7.08056836e+04  5.70925623e+03\n",
      "  1.99231471e+04  4.47617117e+03  2.59483215e+04 -1.62509337e+03\n",
      "  5.19175418e+04  7.56887801e+03  4.40378793e+04  1.75588753e+04\n",
      "  5.24283974e+04  1.55932701e+04  9.80136413e+04  1.79367503e+05\n",
      "  9.89275914e+03  4.83892233e+04  3.72529474e+04  1.97449105e+04\n",
      "  1.31749394e+04  1.14313459e+05  9.82790986e+03  2.03306247e+04\n",
      "  1.21431027e+05  7.04060532e+03  1.03345514e+04  4.42161335e+04\n",
      "  9.34125030e+04  3.66640330e+04  1.19658924e+05  2.50906265e+04\n",
      " -9.29462967e+02  5.07533633e+04  3.46479430e+04  5.91179133e+04\n",
      "  2.51499225e+04  7.19760142e+03  1.01859489e+04  9.74843187e+03\n",
      "  6.63505007e+04  9.17125082e+03  1.87087963e+05  1.88387755e+04\n",
      "  8.22063793e+03  1.72297025e+05  3.56923045e+04  1.07353018e+06\n",
      "  1.79742157e+06  2.20475733e+06  2.46452776e+04 -4.94602150e+03\n",
      "  3.14917253e+04  1.76326142e+05  4.15640036e+04  2.33065803e+05\n",
      "  1.88955414e+05  9.17375551e+04  1.44617244e+05  5.09309831e+05\n",
      "  2.55333208e+05  5.87585630e+03  1.58809365e+04  3.40766247e+04\n",
      "  1.83672117e+04  2.44797328e+05  6.98837439e+04  4.19839818e+04\n",
      " -1.26042824e+03  1.97916009e+05  8.78615779e+03  1.10215761e+04\n",
      "  1.44257449e+04  5.23616104e+05  3.08746787e+04  6.02509394e+04\n",
      "  4.77267573e+04  2.47661120e+04  1.55360698e+03  1.19535115e+06\n",
      "  3.19824764e+05  3.49856697e+04  3.68922342e+04  2.69791903e+04\n",
      "  5.67750131e+05  3.97859024e+04  1.29032601e+04  1.25554662e+04\n",
      "  2.84093023e+03  6.27925943e+06  1.96062307e+04  3.96861984e+05\n",
      "  4.67749913e+03  2.35978754e+04  2.31697450e+04  1.62261578e+05\n",
      "  1.01984792e+05  7.63990917e+06  1.58311190e+05  1.32931097e+04\n",
      "  8.23571459e+04  2.49560299e+03  2.52373267e+03  1.01348656e+05\n",
      "  2.98888714e+05  2.60068555e+04  3.97498409e+05  1.20031442e+06\n",
      "  2.33117944e+06  1.64949345e+04  3.85427746e+04  1.27487988e+05\n",
      "  4.75468687e+04  4.81583376e+05  5.53230780e+03  1.90526979e+04\n",
      "  7.02716794e+03  6.97909563e+03  6.54889175e+04  6.57393785e+03\n",
      "  2.40951819e+04  4.60674432e+04  1.28906981e+04  2.66709091e+03\n",
      "  3.02645136e+04  5.63388278e+04  2.24494210e+04  1.07673189e+05\n",
      "  2.91980869e+04  6.20807029e+04  1.16520054e+04  1.14917648e+04\n",
      "  1.79451566e+04  9.82524249e+02  8.24356190e+03  2.98729873e+06\n",
      "  2.46234004e+04  6.76576988e+04  1.50498843e+05  1.67419818e+04\n",
      "  1.81396489e+03  1.35052764e+04  3.57461866e+05  1.48349424e+04\n",
      "  1.33022871e+04  1.00664528e+04  2.26405786e+05  1.40392343e+04\n",
      "  7.24977530e+04  1.44748455e+05  1.22080674e+04  9.54122977e+05\n",
      "  8.51705851e+04  2.54153242e+05  1.55695858e+04  4.43575181e+03\n",
      "  1.65833381e+04  6.54855247e+04  6.60678888e+06  3.79003370e+05\n",
      "  1.65411631e+05  5.80861603e+04  1.14966375e+06  1.99605095e+06\n",
      "  1.75609575e+04  2.08520178e+05  1.51063578e+04  2.73958738e+04\n",
      "  1.82965009e+04  3.25683317e+03  1.05815732e+05  8.22789619e+05\n",
      "  3.34424007e+05  1.71775108e+04  3.84171583e+05  1.17582640e+04\n",
      "  5.40806839e+03  5.00744883e+05  2.35307190e+05  5.96253644e+04\n",
      "  6.34926409e+04  3.95320707e+04  1.00023728e+04  2.64352338e+04\n",
      "  2.62146037e+04  4.06556060e+03 -2.27295789e+03  8.53716486e+03\n",
      " -3.58518325e+03  3.27747227e+04  6.40872094e+03  1.25938560e+04\n",
      "  2.41893422e+04  1.87605392e+05  2.19764365e+04  2.36204899e+04\n",
      "  5.48203391e+03  2.47078688e+04  9.14612528e+03  1.38894417e+02\n",
      "  5.08600500e+04  1.15388837e+05  1.38635109e+04  1.97174956e+05\n",
      "  8.25984243e+03  5.00009501e+04 -6.02042358e+03  3.63294902e+05\n",
      "  6.95971175e+02  1.12492942e+04  4.93521297e+03  1.04250552e+04\n",
      "  9.05048243e+06  1.00597749e+04  4.68073078e+03  2.42952182e+04\n",
      "  9.60171752e+03  3.14844169e+04  3.30711227e+04  1.05716338e+04\n",
      "  5.19631907e+06  1.06472607e+04  2.13309712e+04  1.26225869e+05\n",
      "  2.27632842e+04  8.25363946e+03  9.04488592e+04  1.46599955e+05\n",
      "  1.88162753e+04  2.95873667e+04  4.42335389e+04  2.51978590e+04\n",
      "  2.65117801e+03  9.83639408e+03  3.40336025e+04  9.14261933e+04\n",
      "  2.44550094e+05  3.92361995e+03  5.45680732e+06  1.06793148e+04\n",
      "  1.83915864e+05  2.47924024e+04  6.01954869e+04  2.02131281e+04\n",
      "  7.38424383e+02  5.59838270e+04  1.12086018e+04  1.34971962e+04\n",
      "  1.75320395e+04]\n"
     ]
    }
   ],
   "source": [
    "y_pred = regressor.predict(x_test)\n",
    "print(y_pred)"
   ]
  },
  {
   "cell_type": "code",
   "execution_count": 92,
   "metadata": {},
   "outputs": [
    {
     "data": {
      "image/png": "[encoded data removed]",
      "text/plain": [
       "<Figure size 432x288 with 1 Axes>"
      ]
     },
     "metadata": {
      "needs_background": "light"
     },
     "output_type": "display_data"
    }
   ],
   "source": [
    "plt.scatter(x_train[:, 0], y_train, color = 'red')\n",
    "#plt.plot(x_train[:, 0], regressor.predict(x_train), color = 'blue')\n",
    "plt.title('Training Set')\n",
    "plt.xlabel('X Axis')\n",
    "plt.ylabel('Y Axis')\n",
    "plt.show()"
   ]
  },
  {
   "cell_type": "code",
   "execution_count": 93,
   "metadata": {
    "tags": [
     "Visualising Test Set Results"
    ]
   },
   "outputs": [
    {
     "data": {
      "image/png": "[encoded data removed]",
      "text/plain": [
       "<Figure size 432x288 with 1 Axes>"
      ]
     },
     "metadata": {
      "needs_background": "light"
     },
     "output_type": "display_data"
    }
   ],
   "source": [
    "plt.scatter(x_test[:, 0], y_test, color = 'red')\n",
    "#plt.plot(x_train[:, 0], regressor.predict(x_train), color = 'blue')\n",
    "plt.title('Test Set')\n",
    "plt.xlabel('X Axis')\n",
    "plt.ylabel('Y Axis')\n",
    "plt.show()"
   ]
  },
  {
   "cell_type": "code",
   "execution_count": 181,
   "metadata": {
    "tags": [
     "Polynomial Regression"
    ]
   },
   "outputs": [
    {
     "data": {
      "text/plain": [
       "array([-1.30916595e-01,  1.03610852e+00,  1.99911891e-02, -1.85337268e-03,\n",
       "        2.95484981e-01,  4.54807799e-02, -1.89786805e-02, -1.54019410e-02,\n",
       "       -1.60676693e-02,  6.08015929e-01,  8.89251798e-02, -1.35351764e-02,\n",
       "       -1.38492280e-02,  6.83156996e-01,  8.44045900e-02, -1.40397525e-02,\n",
       "        5.59507398e-01,  1.17274216e-01, -3.68239651e-01,  1.07081716e+01,\n",
       "        2.37748875e+00, -1.35190041e-01, -1.05081735e-01, -1.12528603e-01,\n",
       "        1.74827150e+00,  2.55647943e-01, -9.19211525e-02, -9.12271627e-02,\n",
       "        1.22843594e+00,  1.01689838e-01, -1.09951999e-01,  1.56149657e+00,\n",
       "        2.83752622e-01,  3.29433600e-02, -5.14959486e-01,  2.31328603e+00,\n",
       "       -8.94068258e-02, -8.44939326e-02,  1.79541377e+00,  2.14245619e-01,\n",
       "       -9.34538440e-02,  1.11448646e+00,  2.33071417e-01,  3.51494297e-02,\n",
       "       -1.18775915e+00,  2.37822216e+00, -1.04094229e-01,  1.56184118e+00,\n",
       "        6.19021111e-01,  3.40745762e-02, -8.10975374e-01,  2.63800721e+00,\n",
       "        1.39109738e-05, -1.35273565e-03,  3.96442637e-02, -4.51384248e-01,\n",
       "       -9.39675789e-01, -7.09407988e-01, -7.74908170e-01, -4.89034598e-01,\n",
       "        6.88571386e-01, -6.01732566e-01, -6.01617194e-01,  7.62088475e-01,\n",
       "        1.44479925e-01, -7.54016726e-01, -5.34712737e-01,  9.29267518e-01,\n",
       "        1.17709896e-03, -5.76847063e-02,  7.69257498e-01, -5.61918299e-01,\n",
       "       -5.23748346e-01, -7.46256900e-01, -1.40184688e-01, -6.22826682e-01,\n",
       "        2.90708212e-01,  3.37145108e-01, -1.97172398e-03, -5.98035728e-03,\n",
       "        4.16044702e-01, -8.06977602e-01, -8.54132503e-02,  1.63658063e+00,\n",
       "       -1.42944921e-03,  3.98617229e-02, -5.28252375e-01, -6.18771014e-08,\n",
       "       -2.87969016e-06,  1.80129021e-04, -1.51365412e-03, -5.91635635e-01,\n",
       "       -5.26762572e-01,  1.36117582e-01,  4.91932092e-01, -5.56311972e-01,\n",
       "        7.57053647e-03,  6.79573257e-01, -7.96893416e-04,  2.94172335e-02,\n",
       "       -8.75941561e-02, -6.75598807e-01, -5.93729771e-01,  1.55211892e+00,\n",
       "       -3.74940240e-03,  1.21733531e-01, -1.93237497e-01,  7.37868069e-07,\n",
       "       -1.47874371e-05,  2.46824176e-04, -3.09546438e-03, -7.93250424e-01,\n",
       "        2.02358882e-02,  4.26341949e+00,  4.83668031e-04, -3.37909903e-02,\n",
       "       -3.89582868e-01, -2.21431896e-06,  1.72286037e-04, -4.83154231e-03,\n",
       "        5.34505924e-02, -2.53892463e-11,  3.42517047e-09, -1.58684628e-07,\n",
       "        2.88256208e-06, -1.67748401e-05])"
      ]
     },
     "execution_count": 181,
     "metadata": {},
     "output_type": "execute_result"
    }
   ],
   "source": [
    "from sklearn.preprocessing import PolynomialFeatures\n",
    "poly_reg = PolynomialFeatures(degree = 4)\n",
    "x_poly = poly_reg.fit_transform(x)\n",
    "regressor2 = LinearRegression()\n",
    "regressor2.fit(x_poly, y)\n",
    "regressor2.coef_"
   ]
  },
  {
   "cell_type": "code",
   "execution_count": null,
   "metadata": {},
   "outputs": [
    {
     "data": {
      "image/png": "[encoded data removed]",
      "text/plain": [
       "<Figure size 432x288 with 1 Axes>"
      ]
     },
     "metadata": {
      "needs_background": "light"
     },
     "output_type": "display_data"
    }
   ],
   "source": [
    "plt.scatter(x[:, 0], y, color='red')\n",
    "#plt.plot(x[:, 0], regressor2.predict(poly_reg.fit_transform(x)), color='blue')\n",
    "plt.title('Polynomial Regression')\n",
    "plt.xlabel('X Axis')\n",
    "plt.ylabel('Y Axis')\n",
    "plt.show()\n",
    "\n"
   ]
  },
  {
   "cell_type": "code",
   "execution_count": null,
   "metadata": {},
   "outputs": [],
   "source": [
    "from sklearn.preprocessing import StandardScaler\n",
    "sc_x = StandardScaler()\n",
    "sc_y = StandardScaler()\n",
    "x = sc_x.fit_transform(x)\n",
    "y = y.reshape(len(y),1)\n",
    "y = sc_y.fit_transform(y)"
   ]
  },
  {
   "cell_type": "code",
   "execution_count": null,
   "metadata": {
    "tags": [
     "Decision Tree"
    ]
   },
   "outputs": [
    {
     "name": "stderr",
     "output_type": "stream",
     "text": [
      "c:\\Users\\Shreya Soni\\anaconda3\\lib\\site-packages\\sklearn\\utils\\validation.py:993: DataConversionWarning: A column-vector y was passed when a 1d array was expected. Please change the shape of y to (n_samples, ), for example using ravel().\n",
      "  y = column_or_1d(y, warn=True)\n"
     ]
    },
    {
     "data": {
      "text/plain": [
       "SVR()"
      ]
     },
     "execution_count": 189,
     "metadata": {},
     "output_type": "execute_result"
    }
   ],
   "source": [
    "from sklearn.svm import SVR\n",
    "regressor = SVR(kernel = 'rbf')\n",
    "regressor.fit(x, y)"
   ]
  },
  {
   "cell_type": "code",
   "execution_count": null,
   "metadata": {},
   "outputs": [
    {
     "data": {
      "image/png": "[encoded data removed]",
      "text/plain": [
       "<Figure size 432x288 with 1 Axes>"
      ]
     },
     "metadata": {
      "needs_background": "light"
     },
     "output_type": "display_data"
    }
   ],
   "source": [
    "plt.scatter(x[:, 0], y, color = 'red')\n",
    "plt.plot(x[:, 0], regressor.predict(x).reshape(-1,1), color = 'blue')\n",
    "plt.xlabel('X Axis')\n",
    "plt.ylabel('Y Axis')\n",
    "plt.show()"
   ]
  }
 ],
 "metadata": {
  "kernelspec": {
   "display_name": "base",
   "language": "python",
   "name": "python3"
  },
  "language_info": {
   "codemirror_mode": {
    "name": "ipython",
    "version": 3
   },
   "file_extension": ".py",
   "mimetype": "text/x-python",
   "name": "python",
   "nbconvert_exporter": "python",
   "pygments_lexer": "ipython3",
   "version": "3.9.12"
  },
  "orig_nbformat": 4
 },
 "nbformat": 4,
 "nbformat_minor": 2
}
